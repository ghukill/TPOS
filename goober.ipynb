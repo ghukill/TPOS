{
 "cells": [
  {
   "cell_type": "code",
   "execution_count": 1,
   "id": "4d96821c",
   "metadata": {},
   "outputs": [
    {
     "name": "stdout",
     "output_type": "stream",
     "text": [
      "\u001b[34mConnecting to --port=/dev/ttyUSB0 --baud=115200 \u001b[0m\n",
      "\u001b[34mReady.\n",
      "\u001b[0m"
     ]
    }
   ],
   "source": [
    "%serialconnect to --port=/dev/ttyUSB0 --baud=115200"
   ]
  },
  {
   "cell_type": "code",
   "execution_count": 2,
   "id": "958bd43d",
   "metadata": {},
   "outputs": [
    {
     "name": "stdout",
     "output_type": "stream",
     "text": [
      "['boot.py']\r\n"
     ]
    }
   ],
   "source": [
    "import os\n",
    "print(os.listdir('.'))"
   ]
  },
  {
   "cell_type": "code",
   "execution_count": 3,
   "id": "4043dda1",
   "metadata": {},
   "outputs": [],
   "source": [
    "import network"
   ]
  },
  {
   "cell_type": "code",
   "execution_count": 5,
   "id": "90664a6d",
   "metadata": {},
   "outputs": [],
   "source": [
    "wlan = network.WLAN(network.STA_IF) # create station interface"
   ]
  },
  {
   "cell_type": "code",
   "execution_count": 61,
   "id": "0499c1d3",
   "metadata": {},
   "outputs": [],
   "source": [
    "wlan.active(True)     "
   ]
  },
  {
   "cell_type": "code",
   "execution_count": 62,
   "id": "363d6893",
   "metadata": {},
   "outputs": [
    {
     "name": "stdout",
     "output_type": "stream",
     "text": [
      "(b'LL Network', b'\\xf2\\x9f\\xc27B0', 1, -90, 3, 0)\n",
      "(b'LL Network-guest', b'\\xf6\\x9f\\xc27B0', 1, -91, 3, 0)\n",
      "(b'LL Network-guest', b'\\xf2\\x9f\\xc27Bm', 1, -72, 3, 0)\n",
      "(b'LL Network', b'\\xf0\\x9f\\xc27Bm', 1, -89, 3, 0)\n",
      "(b'ruby-ddwrt2ghz', b'\\xa0\\x04`9\\x15\\\\', 6, -64, 3, 0)\n",
      "(b'Ruby', b'\\x80\\xda\\xc2\\x1a\\x9e\\xa0', 6, -74, 3, 0)\n",
      "(b'2WIRE439', b'<\\x04a\\xb6\\x19p', 9, -93, 3, 0)\n",
      "(b'ARRIS-02F2_2GEXT', b'\\xdc\\xef\\t\\x92\\xb3\\xd0', 11, -92, 3, 0)\n",
      "(b'ARRIS-02F2', b'<z\\x8av\\x02\\xf0', 11, -91, 3, 0)\n",
      "(b'bw', b'\\xe8\\x9f\\x80[\\x18\\x91', 11, -92, 3, 0)\n"
     ]
    }
   ],
   "source": [
    "for n in wlan.scan():\n",
    "    print(n)"
   ]
  },
  {
   "cell_type": "code",
   "execution_count": 67,
   "id": "fa2f6161",
   "metadata": {},
   "outputs": [
    {
     "name": "stdout",
     "output_type": "stream",
     "text": [
      "checking...\n",
      "checking...\n",
      "checking...\n",
      "connected!\n"
     ]
    }
   ],
   "source": [
    "# connect to ruby 2g\n",
    "import time\n",
    "#wlan.connect('ruby-ddwrt2ghz', 'DumpsterTurkey')\n",
    "wlan.connect('Ruby', 'etagefunf509')\n",
    "for x in range(10):\n",
    "    print(\"checking...\")\n",
    "    time.sleep(1)\n",
    "    connected = wlan.isconnected()\n",
    "    if connected:\n",
    "        print(\"connected!\")\n",
    "        break"
   ]
  },
  {
   "cell_type": "code",
   "execution_count": 65,
   "id": "bd4aeacf",
   "metadata": {},
   "outputs": [],
   "source": [
    "wlan.disconnect()"
   ]
  },
  {
   "cell_type": "code",
   "execution_count": 66,
   "id": "f59d4056",
   "metadata": {},
   "outputs": [
    {
     "name": "stdout",
     "output_type": "stream",
     "text": [
      "False\r\n"
     ]
    }
   ],
   "source": [
    "print(wlan.isconnected())"
   ]
  },
  {
   "cell_type": "code",
   "execution_count": 21,
   "id": "885bbf5d",
   "metadata": {},
   "outputs": [
    {
     "name": "stdout",
     "output_type": "stream",
     "text": [
      "('192.168.1.142', '255.255.255.0', '192.168.1.1', '192.168.1.1')\r\n"
     ]
    }
   ],
   "source": [
    "print(wlan.ifconfig())"
   ]
  },
  {
   "cell_type": "code",
   "execution_count": 22,
   "id": "e8daac2d",
   "metadata": {},
   "outputs": [],
   "source": [
    "import socket"
   ]
  },
  {
   "cell_type": "code",
   "execution_count": 40,
   "id": "316f22fe",
   "metadata": {},
   "outputs": [],
   "source": [
    "addr_info = socket.getaddrinfo(\"towel.blinkenlights.nl\", 23)"
   ]
  },
  {
   "cell_type": "code",
   "execution_count": 25,
   "id": "f1db7f83",
   "metadata": {},
   "outputs": [
    {
     "name": "stdout",
     "output_type": "stream",
     "text": [
      "('213.136.8.188', 23)\r\n"
     ]
    }
   ],
   "source": [
    "addr = addr_info[0][-1]\n",
    "print(addr)"
   ]
  },
  {
   "cell_type": "code",
   "execution_count": 41,
   "id": "f9215833",
   "metadata": {},
   "outputs": [],
   "source": [
    "s = socket.socket()"
   ]
  },
  {
   "cell_type": "code",
   "execution_count": 42,
   "id": "488569bc",
   "metadata": {},
   "outputs": [
    {
     "name": "stdout",
     "output_type": "stream",
     "text": [
      ".."
     ]
    },
    {
     "name": "stderr",
     "output_type": "stream",
     "text": [
      "Traceback (most recent call last):\n",
      "  File \"<stdin>\", line 1, in <module>\n",
      "OSError: [Errno 103] ECONNABORTED\n"
     ]
    }
   ],
   "source": [
    "s.connect(addr)"
   ]
  },
  {
   "cell_type": "code",
   "execution_count": 48,
   "id": "993f0723",
   "metadata": {},
   "outputs": [
    {
     "name": "stdout",
     "output_type": "stream",
     "text": [
      "['__class__', '__name__', '__path__']\r\n"
     ]
    }
   ],
   "source": [
    "import urllib\n",
    "# r = urllib.urlopen(\"http://icanhazip.com\")"
   ]
  },
  {
   "cell_type": "code",
   "execution_count": 52,
   "id": "0d3dd16d",
   "metadata": {},
   "outputs": [],
   "source": [
    "def http_get(host, path):\n",
    "    import socket\n",
    "    addr = socket.getaddrinfo(host, 80)[0][-1]\n",
    "    s = socket.socket()\n",
    "    s.connect(addr)\n",
    "    s.send(bytes('GET /%s HTTP/1.0\\r\\nHost: %s\\r\\n\\r\\n' % (path, host), 'utf8'))\n",
    "    while True:\n",
    "        data = s.recv(100)\n",
    "        if data:\n",
    "            print(str(data, 'utf8'), end='')\n",
    "        else:\n",
    "            break\n",
    "    s.close()"
   ]
  },
  {
   "cell_type": "code",
   "execution_count": 59,
   "id": "055a8a6c",
   "metadata": {},
   "outputs": [
    {
     "name": "stdout",
     "output_type": "stream",
     "text": [
      "HTTP/1.1 200 OK\n",
      "Date: Fri, 04 Nov 2022 01:11:57 GMT\n",
      "Content-Type: text/plain\n",
      "Content-Length: 14\n",
      "Connection: close\n",
      "Access-Control-Allow-Origin: *\n",
      "Access-Control-Allow-Methods: GET\n",
      "Set-Cookie: __cf_bm=.jPjwFH0GAslOVE1mNs_LKrzus5f3yxbWNZPlPGzcgo-1667524317-0-AYBcmCWNPzFeHRNOzS84qt+28dVYTAaq2CxZPb4/cmJa0JkdgiAtKcTMkL9OeVWuX1H/JY4VOJqFztbC+bf8IYQ=; path=/; expires=Fri, 04-Nov-22 01:41:57 GMT; domain=.icanhazip.com; HttpOnly\n",
      "Server: cloudflare\n",
      "CF-RAY: 76497a867890f7d8-BNA\n",
      "alt-svc: h3=\":443\"; ma=86400, h3-29=\":443\"; ma=86400\n",
      "\n",
      "76.129.193.55\n"
     ]
    }
   ],
   "source": [
    "http_get('icanhazip.com','/')"
   ]
  },
  {
   "cell_type": "code",
   "execution_count": 60,
   "id": "b83cec05",
   "metadata": {},
   "outputs": [
    {
     "name": "stdout",
     "output_type": "stream",
     "text": [
      "listening on ('0.0.0.0', 80)\n",
      "....................................................................\u001b[34m\n",
      "\n",
      "*** Sending Ctrl-C\n",
      "\n",
      "\u001b[0m"
     ]
    },
    {
     "name": "stderr",
     "output_type": "stream",
     "text": [
      "Traceback (most recent call last):\n",
      "  File \"<stdin>\", line 23, in <module>\n",
      "KeyboardInterrupt: \n"
     ]
    }
   ],
   "source": [
    "import machine\n",
    "pins = [machine.Pin(i, machine.Pin.IN) for i in (0, 2, 4, 5, 12, 13, 14, 15)]\n",
    "\n",
    "html = \"\"\"<!DOCTYPE html>\n",
    "<html>\n",
    "    <head> <title>ESP8266 Pins</title> </head>\n",
    "    <body> <h1>ESP8266 Pins</h1>\n",
    "        <table border=\"1\"> <tr><th>Pin</th><th>Value</th></tr> %s </table>\n",
    "    </body>\n",
    "</html>\n",
    "\"\"\"\n",
    "\n",
    "import socket\n",
    "addr = socket.getaddrinfo('0.0.0.0', 80)[0][-1]\n",
    "\n",
    "s = socket.socket()\n",
    "s.bind(addr)\n",
    "s.listen(1)\n",
    "\n",
    "print('listening on', addr)\n",
    "\n",
    "while True:\n",
    "    cl, addr = s.accept()\n",
    "    print('client connected from', addr)\n",
    "    cl_file = cl.makefile('rwb', 0)\n",
    "    while True:\n",
    "        line = cl_file.readline()\n",
    "        if not line or line == b'\\r\\n':\n",
    "            break\n",
    "    rows = ['<tr><td>%s</td><td>%d</td></tr>' % (str(p), p.value()) for p in pins]\n",
    "    response = html % '\\n'.join(rows)\n",
    "    cl.send('HTTP/1.0 200 OK\\r\\nContent-type: text/html\\r\\n\\r\\n')\n",
    "    cl.send(response)\n",
    "    cl.close()"
   ]
  }
 ],
 "metadata": {
  "kernelspec": {
   "display_name": "MicroPython - USB",
   "language": "micropython",
   "name": "micropython"
  },
  "language_info": {
   "codemirror_mode": "python",
   "file_extension": ".py",
   "mimetype": "text/python",
   "name": "micropython"
  }
 },
 "nbformat": 4,
 "nbformat_minor": 5
}
